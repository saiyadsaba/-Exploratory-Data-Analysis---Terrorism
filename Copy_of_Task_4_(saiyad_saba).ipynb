{
  "nbformat": 4,
  "nbformat_minor": 0,
  "metadata": {
    "colab": {
      "provenance": [],
      "authorship_tag": "ABX9TyN9b8LdFHx9QselQC5/UsKu",
      "include_colab_link": true
    },
    "kernelspec": {
      "name": "python3",
      "display_name": "Python 3"
    },
    "language_info": {
      "name": "python"
    }
  },
  "cells": [
    {
      "cell_type": "markdown",
      "metadata": {
        "id": "view-in-github",
        "colab_type": "text"
      },
      "source": [
        "<a href=\"https://colab.research.google.com/github/saiyadsaba/-Exploratory-Data-Analysis---Terrorism/blob/main/Copy_of_Task_4_(saiyad_saba).ipynb\" target=\"_parent\"><img src=\"https://colab.research.google.com/assets/colab-badge.svg\" alt=\"Open In Colab\"/></a>"
      ]
    },
    {
      "cell_type": "markdown",
      "source": [
        "GRIP:THE SPARKS FOUNDATION\n",
        "\n",
        "DATA SCIENCE AND BUSINESS ANALYTICS INTERN\n",
        "\n",
        "TASK 4 : Exploratory Data Analysis - Terrorism\n",
        "\n",
        "AUTHOR: SAIYAD SABA"
      ],
      "metadata": {
        "id": "h41kzZ86cQYn"
      }
    },
    {
      "cell_type": "markdown",
      "source": [
        "Step 1: Data Loading and Exploration\n",
        "\n",
        "Start by loading the dataset into a Pandas DataFrame and exploring its structure and contents. You can use the pandas library in Python for this task."
      ],
      "metadata": {
        "id": "DCoEAA_mcy2_"
      }
    },
    {
      "cell_type": "code",
      "source": [
        "import pandas as pd\n",
        "\n",
        "# Load the dataset\n",
        "data = pd.read_csv('/content/sample_data/globalterrorismdb_0718dist.csv', encoding='ISO-8859-1')\n",
        "\n",
        "# Explore the dataset\n",
        "print(data.head())\n",
        "print(data.info())\n"
      ],
      "metadata": {
        "colab": {
          "base_uri": "https://localhost:8080/"
        },
        "id": "VJEDNffCdRDk",
        "outputId": "62d8401e-918d-4e74-804c-4415a5a6dda7"
      },
      "execution_count": null,
      "outputs": [
        {
          "output_type": "stream",
          "name": "stdout",
          "text": [
            "        eventid  iyear  imonth  iday approxdate  extended resolution  country  \\\n",
            "0  197000000001   1970       7     2        NaN         0        NaN       58   \n",
            "1  197000000002   1970       0     0        NaN         0        NaN      130   \n",
            "2  197001000001   1970       1     0        NaN         0        NaN      160   \n",
            "3  197001000002   1970       1     0        NaN         0        NaN       78   \n",
            "4  197001000003   1970       1     0        NaN         0        NaN      101   \n",
            "\n",
            "          country_txt  region  ... addnotes scite1 scite2  scite3  dbsource  \\\n",
            "0  Dominican Republic       2  ...      NaN    NaN    NaN     NaN      PGIS   \n",
            "1              Mexico       1  ...      NaN    NaN    NaN     NaN      PGIS   \n",
            "2         Philippines       5  ...      NaN    NaN    NaN     NaN      PGIS   \n",
            "3              Greece       8  ...      NaN    NaN    NaN     NaN      PGIS   \n",
            "4               Japan       4  ...      NaN    NaN    NaN     NaN      PGIS   \n",
            "\n",
            "   INT_LOG  INT_IDEO INT_MISC INT_ANY  related  \n",
            "0      0.0       0.0      0.0     0.0      NaN  \n",
            "1      0.0       1.0      1.0     1.0      NaN  \n",
            "2     -9.0      -9.0      1.0     1.0      NaN  \n",
            "3     -9.0      -9.0      1.0     1.0      NaN  \n",
            "4     -9.0      -9.0      1.0     1.0      NaN  \n",
            "\n",
            "[5 rows x 135 columns]\n",
            "<class 'pandas.core.frame.DataFrame'>\n",
            "RangeIndex: 5096 entries, 0 to 5095\n",
            "Columns: 135 entries, eventid to related\n",
            "dtypes: float64(64), int64(17), object(54)\n",
            "memory usage: 5.2+ MB\n",
            "None\n"
          ]
        },
        {
          "output_type": "stream",
          "name": "stderr",
          "text": [
            "<ipython-input-2-315e43ec0998>:4: DtypeWarning: Columns (4,31,33,76,94,96) have mixed types. Specify dtype option on import or set low_memory=False.\n",
            "  data = pd.read_csv('/content/sample_data/globalterrorismdb_0718dist.csv', encoding='ISO-8859-1')\n"
          ]
        }
      ]
    },
    {
      "cell_type": "markdown",
      "source": [
        "Step 2: Data Cleaning and Preprocessing\n",
        "Clean the dataset by handling missing values, dropping irrelevant columns, and transforming the data into a more usable format. This step is crucial for meaningful analysis."
      ],
      "metadata": {
        "id": "sYhz4pePe8dI"
      }
    },
    {
      "cell_type": "code",
      "source": [
        "# Convert date columns to datetime format\n",
        "data['date'] = pd.to_datetime(data[['iday', 'imonth', 'iyear']].rename(columns={'iday': 'day', 'imonth': 'month', 'iyear': 'year'}), errors='coerce')\n",
        "\n",
        "# Drop rows with missing or invalid dates\n",
        "data = data.dropna(subset=['date'])\n",
        "\n",
        "# Ensure numeric data types for latitude and longitude\n",
        "data['latitude'] = pd.to_numeric(data['latitude'])\n",
        "data['longitude'] = pd.to_numeric(data['longitude'])\n"
      ],
      "metadata": {
        "id": "74ZX-JR5e9-P"
      },
      "execution_count": null,
      "outputs": []
    },
    {
      "cell_type": "markdown",
      "source": [
        "Step 3: Analysis and Visualization\n",
        "Now, let's perform the analysis and derive insights from the dataset using visualizations.\n"
      ],
      "metadata": {
        "id": "CYoLEmeMhV8r"
      }
    },
    {
      "cell_type": "code",
      "source": [
        "# Calculate the number of terrorist attacks per year\n",
        "attacks_per_year = data['iyear'].value_counts().sort_index()\n",
        "\n",
        "# Plot the number of terrorist attacks per year\n",
        "plt.figure(figsize=(12, 6))\n",
        "plt.plot(attacks_per_year.index, attacks_per_year.values, marker='o')\n",
        "plt.xticks(rotation=45)\n",
        "plt.title('Number of Terrorist Attacks per Year')\n",
        "plt.xlabel('Year')\n",
        "plt.ylabel('Number of Attacks')\n",
        "plt.show()\n"
      ],
      "metadata": {
        "colab": {
          "base_uri": "https://localhost:8080/",
          "height": 590
        },
        "id": "fi0SZ_UHibiB",
        "outputId": "16a666c7-a233-414b-daec-5e5309497d70"
      },
      "execution_count": null,
      "outputs": [
        {
          "output_type": "display_data",
          "data": {
            "text/plain": [
              "<Figure size 1200x600 with 1 Axes>"
            ],
            "image/png": "[encoded data removed]"
          },
          "metadata": {}
        }
      ]
    },
    {
      "cell_type": "markdown",
      "source": [
        "Step 4: Deriving Security Issues and Insights\n",
        "Based on the analysis, you can derive various security issues and insights"
      ],
      "metadata": {
        "id": "r_GU05RwjQeF"
      }
    },
    {
      "cell_type": "markdown",
      "source": [
        "Hot Zones: Identify the regions or countries with the highest number of terrorist attacks. This can help prioritize security measures and allocate resources accordingly.\n",
        "\n",
        "Trends Over Time: Analyze the trend of terrorist attacks over the years. Are they increasing or decreasing? This information can assist in understanding the effectiveness of counter-terrorism strategies.\n",
        "\n",
        "Targeted Countries: Determine the top countries that are most affected by terrorism. Focus on these countries for targeted security measures and international cooperation.\n",
        "\n",
        "Geographical Distribution: Visualize the geographical distribution of terrorist attacks to identify specific areas prone to terrorism. This can help in deploying security forces and implementing preventive measures in high-risk regions.\n",
        "\n",
        "Attack Types: Explore the types of attacks, such as bombings, armed assaults, or hijackings, to understand the modus operandi of terrorist groups. This knowledge can"
      ],
      "metadata": {
        "id": "meDkjaBljlru"
      }
    }
  ]
}